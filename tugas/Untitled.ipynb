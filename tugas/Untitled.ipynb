{
 "cells": [
  {
   "cell_type": "markdown",
   "id": "93784c0f-ce12-4448-8012-3a77d78988bf",
   "metadata": {},
   "source": [
    "# Tugas Praktikum\n",
    " - NAMA: Farhannivta Ramadhana\n",
    " - NIM : 123230139\n",
    " - Kelas: IF-D"
   ]
  },
  {
   "cell_type": "markdown",
   "id": "2bc752d1-b41e-4c30-b17b-5768f456efd3",
   "metadata": {},
   "source": [
    "1. Buatlah matriks 3x3 dengan elemen berupa bilangan berurutan dari 1 hingga 9. Cetak Hasilnya"
   ]
  },
  {
   "cell_type": "code",
   "execution_count": 1,
   "id": "75845c19-2ef0-4d74-99e6-dfac6a90dde4",
   "metadata": {},
   "outputs": [
    {
     "name": "stdout",
     "output_type": "stream",
     "text": [
      "[[1 2 3]\n",
      " [4 5 6]\n",
      " [7 8 9]]\n"
     ]
    }
   ],
   "source": [
    "# import numpy\n",
    "import numpy as np\n",
    "\n",
    "matrix = np.array([[1,2,3], [4,5,6], [7,8,9]])\n",
    "print(matrix)"
   ]
  },
  {
   "cell_type": "markdown",
   "id": "2792c0e8-1c19-44b8-bc05-2dc7373f91d6",
   "metadata": {},
   "source": [
    "2. Definisikan dua matriks 2x2\n",
    "   A = [[1, 2], [3,4]]\n",
    "   B = [[5, 6], [7,8]]\n",
    "   Hitung hasil penjumlahan dari kedua matriks tersebut."
   ]
  },
  {
   "cell_type": "code",
   "execution_count": 2,
   "id": "db9c62d8-1eb1-486a-96ab-58d7b18e7363",
   "metadata": {},
   "outputs": [
    {
     "name": "stdout",
     "output_type": "stream",
     "text": [
      "[[ 6  8]\n",
      " [10 12]]\n"
     ]
    }
   ],
   "source": [
    "A = np.array([[1,2], [3,4]])\n",
    "B = np.array([[5,6], [7,8]])\n",
    "\n",
    "matrixHasilJumlah = A + B\n",
    "\n",
    "print(matrixHasilJumlah)"
   ]
  },
  {
   "cell_type": "markdown",
   "id": "58c8cf70-340a-4e23-86d4-0e20f7ddeab2",
   "metadata": {},
   "source": [
    "3. Hitunglah hasil perkalian matriks berikut:\n",
    "   C = [[1,0], [0,1]]\n",
    "   D = [[2,3], [4,5]]\n",
    "   Cetak hasilnya dalam bentuk matriks"
   ]
  },
  {
   "cell_type": "code",
   "execution_count": 3,
   "id": "708addd4-c41d-4710-9c1d-9469d413904f",
   "metadata": {},
   "outputs": [
    {
     "name": "stdout",
     "output_type": "stream",
     "text": [
      "[[2 3]\n",
      " [4 5]]\n"
     ]
    }
   ],
   "source": [
    "C = np.array([[1,0], [0,1]])\n",
    "D = np.array([[2,3], [4,5]])\n",
    "\n",
    "matrixHasilKali = C.dot(D)\n",
    "\n",
    "print(matrixHasilKali)"
   ]
  },
  {
   "cell_type": "markdown",
   "id": "7902e29e-5749-4998-9f5a-a154d14015b0",
   "metadata": {},
   "source": [
    "4. Diberikan matrix 2x3 berikut:\n",
    "   E = [[1,2,3], [4,5,6]]\n",
    "   Lakukan transpose dan cetak hasilnya."
   ]
  },
  {
   "cell_type": "code",
   "execution_count": 4,
   "id": "e19ad592-4255-448b-860f-cbd6d1a283a9",
   "metadata": {},
   "outputs": [
    {
     "name": "stdout",
     "output_type": "stream",
     "text": [
      "[[1 4]\n",
      " [2 5]\n",
      " [3 6]]\n"
     ]
    }
   ],
   "source": [
    "E = np.array([[1,2,3], [4,5,6]])\n",
    "ET = E.T\n",
    "\n",
    "print(ET)"
   ]
  },
  {
   "cell_type": "markdown",
   "id": "1b80a138-d2b9-4ecd-9929-49f4abed3d5e",
   "metadata": {},
   "source": [
    "5. Selesaikan sistem persamaan linier berikut menggunakan matriks:\n",
    "   x + 2y = 10\n",
    "   3x + 4y = 24"
   ]
  },
  {
   "cell_type": "code",
   "execution_count": 5,
   "id": "d2ac1b18-a656-43db-9f87-4dc9c9862cb2",
   "metadata": {},
   "outputs": [
    {
     "name": "stdout",
     "output_type": "stream",
     "text": [
      "[4. 3.]\n"
     ]
    }
   ],
   "source": [
    "F = np.array([[1, 2], [3, 4]])\n",
    "G = np.array([10, 24])\n",
    "\n",
    "solution = np.linalg.solve(F, G)\n",
    "\n",
    "print(solution)"
   ]
  },
  {
   "cell_type": "markdown",
   "id": "29526057-79c3-4ba3-abbc-9aa38a405830",
   "metadata": {},
   "source": [
    "6. Diberikan dua matriks\n",
    "   A = [[1,2],[3,4]]\n",
    "   B = [[5,6],[7,8]]\n",
    "   Gabungkan kedua matriks:\n",
    "   - Secara horizontal.\n",
    "   - Secara vertikal"
   ]
  },
  {
   "cell_type": "code",
   "execution_count": 6,
   "id": "3e6adab5-d70b-4e57-adcc-04fb9e063016",
   "metadata": {},
   "outputs": [
    {
     "name": "stdout",
     "output_type": "stream",
     "text": [
      "[[1 2 5 6]\n",
      " [3 4 7 8]]\n",
      "[[1 2]\n",
      " [3 4]\n",
      " [5 6]\n",
      " [7 8]]\n"
     ]
    }
   ],
   "source": [
    "ABH = np.hstack((A, B))\n",
    "ABV = np.vstack((A, B))\n",
    "\n",
    "print(ABH)\n",
    "print(ABV)"
   ]
  },
  {
   "cell_type": "markdown",
   "id": "6740908f-93d6-43b4-893f-7439c91164f0",
   "metadata": {},
   "source": [
    "7. Definisikan array ID berikut:\n",
    "   X = [[1,2,3], [4,5,6]]\n",
    "   Ubah array tersebut menjadi matriks:\n",
    "   - Matriks 2x3\n",
    "   - Matriks 3x2"
   ]
  },
  {
   "cell_type": "code",
   "execution_count": 10,
   "id": "592694c7-a23c-4a3f-b6a2-2321b2dac7f1",
   "metadata": {},
   "outputs": [
    {
     "name": "stdout",
     "output_type": "stream",
     "text": [
      "[[1 2 3]\n",
      " [4 5 6]]\n",
      "[[1 2]\n",
      " [3 4]\n",
      " [5 6]]\n"
     ]
    }
   ],
   "source": [
    "X = np.array([[1,2,3], [4,5,6]])\n",
    "\n",
    "Xrs2x3 = np.resize(X, (2,3))\n",
    "Xrs3x2 = np.resize(X, (3,2))\n",
    "\n",
    "print(Xrs2x3)\n",
    "print(Xrs3x2)"
   ]
  }
 ],
 "metadata": {
  "kernelspec": {
   "display_name": "Python 3 (ipykernel)",
   "language": "python",
   "name": "python3"
  },
  "language_info": {
   "codemirror_mode": {
    "name": "ipython",
    "version": 3
   },
   "file_extension": ".py",
   "mimetype": "text/x-python",
   "name": "python",
   "nbconvert_exporter": "python",
   "pygments_lexer": "ipython3",
   "version": "3.10.12"
  }
 },
 "nbformat": 4,
 "nbformat_minor": 5
}
