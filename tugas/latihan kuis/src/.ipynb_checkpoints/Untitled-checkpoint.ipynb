{
 "cells": [
  {
   "cell_type": "markdown",
   "id": "522d024a-a6e7-496a-a3c3-8837b3e950e8",
   "metadata": {},
   "source": [
    "# LATIHAN KUIS"
   ]
  },
  {
   "cell_type": "markdown",
   "id": "9c439882-b094-492d-80ca-ec39f1fae310",
   "metadata": {},
   "source": [
    "1. Menampilkan Dataset"
   ]
  },
  {
   "cell_type": "code",
   "execution_count": null,
   "id": "2ae0b248-7465-414a-8e4d-878a51d7a176",
   "metadata": {},
   "outputs": [],
   "source": []
  }
 ],
 "metadata": {
  "kernelspec": {
   "display_name": "Python 3 (ipykernel)",
   "language": "python",
   "name": "python3"
  },
  "language_info": {
   "codemirror_mode": {
    "name": "ipython",
    "version": 3
   },
   "file_extension": ".py",
   "mimetype": "text/x-python",
   "name": "python",
   "nbconvert_exporter": "python",
   "pygments_lexer": "ipython3",
   "version": "3.10.12"
  }
 },
 "nbformat": 4,
 "nbformat_minor": 5
}
