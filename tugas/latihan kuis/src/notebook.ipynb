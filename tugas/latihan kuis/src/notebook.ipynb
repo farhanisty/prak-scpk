{
 "cells": [
  {
   "cell_type": "markdown",
   "id": "522d024a-a6e7-496a-a3c3-8837b3e950e8",
   "metadata": {},
   "source": [
    "# LATIHAN KUIS"
   ]
  },
  {
   "cell_type": "markdown",
   "id": "eca66c7b-4f3e-4399-834f-7d65d411055a",
   "metadata": {},
   "source": [
    "## Import dan Konfigurasi"
   ]
  },
  {
   "cell_type": "code",
   "execution_count": 15,
   "id": "2712b6e1-47f9-44f6-819a-0bc817da4a16",
   "metadata": {},
   "outputs": [],
   "source": [
    "import pandas as pd\n",
    "\n",
    "# inisialisasi variabel dataset mentah\n",
    "rawDataset = pd.read_csv(\"weather_data_extended.csv\")"
   ]
  },
  {
   "cell_type": "markdown",
   "id": "e8be6dce-fb4a-4c25-a1f5-c8edee14b49a",
   "metadata": {},
   "source": [
    "## Info dan Describe"
   ]
  },
  {
   "cell_type": "code",
   "execution_count": 32,
   "id": "31a00638-8487-48c5-9dba-018e266d2991",
   "metadata": {},
   "outputs": [
    {
     "name": "stdout",
     "output_type": "stream",
     "text": [
      "<class 'pandas.core.frame.DataFrame'>\n",
      "RangeIndex: 800 entries, 0 to 799\n",
      "Data columns (total 11 columns):\n",
      " #   Column             Non-Null Count  Dtype  \n",
      "---  ------             --------------  -----  \n",
      " 0   Location           800 non-null    object \n",
      " 1   Observation Time   800 non-null    object \n",
      " 2   Temperature (°C)   800 non-null    float64\n",
      " 3   Feels Like (°C)    800 non-null    float64\n",
      " 4   Humidity (%)       800 non-null    int64  \n",
      " 5   Wind Speed (kph)   800 non-null    float64\n",
      " 6   Weather Condition  800 non-null    object \n",
      " 7   Cloud Cover (%)    800 non-null    int64  \n",
      " 8   Pressure (mb)      800 non-null    int64  \n",
      " 9   UV Index           800 non-null    int64  \n",
      " 10  Visibility (km)    800 non-null    int64  \n",
      "dtypes: float64(3), int64(5), object(3)\n",
      "memory usage: 68.9+ KB\n",
      "None\n",
      "       Temperature (°C)  Feels Like (°C)  Humidity (%)  Wind Speed (kph)  \\\n",
      "count         800.00000       800.000000    800.000000        800.000000   \n",
      "mean           16.53750        16.312500     73.375000         16.200000   \n",
      "std             5.58223         7.397601     16.547709         10.343052   \n",
      "min             8.30000         4.500000     40.000000          3.600000   \n",
      "25%            13.75000        12.375000     66.500000          6.625000   \n",
      "50%            15.50000        15.900000     74.000000         14.600000   \n",
      "75%            20.25000        20.625000     81.250000         25.550000   \n",
      "max            25.00000        27.800000    100.000000         29.900000   \n",
      "\n",
      "       Cloud Cover (%)  Pressure (mb)    UV Index  Visibility (km)  \n",
      "count       800.000000     800.000000  800.000000       800.000000  \n",
      "mean         43.750000    1013.125000    1.750000        10.750000  \n",
      "std          34.820297       6.493233    1.090406         1.985555  \n",
      "min           0.000000    1003.000000    1.000000        10.000000  \n",
      "25%           0.000000    1010.500000    1.000000        10.000000  \n",
      "50%          62.500000    1012.500000    1.000000        10.000000  \n",
      "75%          75.000000    1015.750000    2.250000        10.000000  \n",
      "max          75.000000    1024.000000    4.000000        16.000000  \n"
     ]
    }
   ],
   "source": [
    "print(rawDataset.info())"
   ]
  },
  {
   "cell_type": "code",
   "execution_count": 33,
   "id": "d7b2a1ea-3023-40a8-8736-d2dfbbdb93a4",
   "metadata": {},
   "outputs": [
    {
     "name": "stdout",
     "output_type": "stream",
     "text": [
      "       Temperature (°C)  Feels Like (°C)  Humidity (%)  Wind Speed (kph)  \\\n",
      "count         800.00000       800.000000    800.000000        800.000000   \n",
      "mean           16.53750        16.312500     73.375000         16.200000   \n",
      "std             5.58223         7.397601     16.547709         10.343052   \n",
      "min             8.30000         4.500000     40.000000          3.600000   \n",
      "25%            13.75000        12.375000     66.500000          6.625000   \n",
      "50%            15.50000        15.900000     74.000000         14.600000   \n",
      "75%            20.25000        20.625000     81.250000         25.550000   \n",
      "max            25.00000        27.800000    100.000000         29.900000   \n",
      "\n",
      "       Cloud Cover (%)  Pressure (mb)    UV Index  Visibility (km)  \n",
      "count       800.000000     800.000000  800.000000       800.000000  \n",
      "mean         43.750000    1013.125000    1.750000        10.750000  \n",
      "std          34.820297       6.493233    1.090406         1.985555  \n",
      "min           0.000000    1003.000000    1.000000        10.000000  \n",
      "25%           0.000000    1010.500000    1.000000        10.000000  \n",
      "50%          62.500000    1012.500000    1.000000        10.000000  \n",
      "75%          75.000000    1015.750000    2.250000        10.000000  \n",
      "max          75.000000    1024.000000    4.000000        16.000000  \n"
     ]
    }
   ],
   "source": [
    "print(rawDataset.describe())"
   ]
  },
  {
   "cell_type": "markdown",
   "id": "9c439882-b094-492d-80ca-ec39f1fae310",
   "metadata": {},
   "source": [
    "### 1. Menampilkan Dataset"
   ]
  },
  {
   "cell_type": "code",
   "execution_count": 20,
   "id": "db1c4f9f-69ec-4b97-9dea-a3607302c87e",
   "metadata": {},
   "outputs": [
    {
     "name": "stdout",
     "output_type": "stream",
     "text": [
      "      Location Observation Time  Temperature (°C)  Feels Like (°C)  \\\n",
      "0     New York   4/5/2024 14:15               8.3              4.5   \n",
      "1     New York   4/5/2024 14:15               8.3              4.5   \n",
      "2     New York   4/5/2024 14:15               8.3              4.5   \n",
      "3     New York   4/5/2024 14:15               8.3              4.5   \n",
      "4     New York   4/5/2024 14:15               8.3              4.5   \n",
      "..         ...              ...               ...              ...   \n",
      "795  Hong Kong    4/6/2024 2:30              25.0             27.8   \n",
      "796  Hong Kong    4/6/2024 2:30              25.0             27.8   \n",
      "797  Hong Kong    4/6/2024 2:30              25.0             27.8   \n",
      "798  Hong Kong    4/6/2024 2:30              25.0             27.8   \n",
      "799  Hong Kong    4/6/2024 2:30              25.0             27.8   \n",
      "\n",
      "     Humidity (%)  Wind Speed (kph) Weather Condition  Cloud Cover (%)  \\\n",
      "0              40              29.9     Partly cloudy               75   \n",
      "1              40              29.9     Partly cloudy               75   \n",
      "2              40              29.9     Partly cloudy               75   \n",
      "3              40              29.9     Partly cloudy               75   \n",
      "4              40              29.9     Partly cloudy               75   \n",
      "..            ...               ...               ...              ...   \n",
      "795            79              29.9     Partly cloudy               50   \n",
      "796            79              29.9     Partly cloudy               50   \n",
      "797            79              29.9     Partly cloudy               50   \n",
      "798            79              29.9     Partly cloudy               50   \n",
      "799            79              29.9     Partly cloudy               50   \n",
      "\n",
      "     Pressure (mb)  UV Index  Visibility (km)  \n",
      "0             1003         2               16  \n",
      "1             1003         2               16  \n",
      "2             1003         2               16  \n",
      "3             1003         2               16  \n",
      "4             1003         2               16  \n",
      "..             ...       ...              ...  \n",
      "795           1012         1               10  \n",
      "796           1012         1               10  \n",
      "797           1012         1               10  \n",
      "798           1012         1               10  \n",
      "799           1012         1               10  \n",
      "\n",
      "[800 rows x 11 columns]\n"
     ]
    }
   ],
   "source": [
    "print(rawDataset)"
   ]
  },
  {
   "cell_type": "markdown",
   "id": "c08d0733-4a1d-4fdf-a839-ef66dcb991db",
   "metadata": {},
   "source": [
    "### 2. Menampilkan Data Yang Hilang"
   ]
  },
  {
   "cell_type": "code",
   "execution_count": 19,
   "id": "3d7bee59-7d67-485c-88e0-3f8d254bb188",
   "metadata": {},
   "outputs": [
    {
     "name": "stdout",
     "output_type": "stream",
     "text": [
      "Empty DataFrame\n",
      "Columns: [Location, Observation Time, Temperature (°C), Feels Like (°C), Humidity (%), Wind Speed (kph), Weather Condition, Cloud Cover (%), Pressure (mb), UV Index, Visibility (km)]\n",
      "Index: []\n"
     ]
    }
   ],
   "source": [
    "rows_with_missing = rawDataset[rawDataset.isnull().any(axis=1)]\n",
    "print(rows_with_missing)"
   ]
  },
  {
   "cell_type": "markdown",
   "id": "616a74c8-9cd3-43d0-806c-1f5cb4a87520",
   "metadata": {},
   "source": [
    "### 3. Menampilkan Data Yang Terduplikasi"
   ]
  },
  {
   "cell_type": "code",
   "execution_count": 24,
   "id": "25a96de6-0773-4400-977a-770a1aa8af6a",
   "metadata": {},
   "outputs": [
    {
     "name": "stdout",
     "output_type": "stream",
     "text": [
      "      Location Observation Time  Temperature (°C)  Feels Like (°C)  \\\n",
      "1     New York   4/5/2024 14:15               8.3              4.5   \n",
      "2     New York   4/5/2024 14:15               8.3              4.5   \n",
      "3     New York   4/5/2024 14:15               8.3              4.5   \n",
      "4     New York   4/5/2024 14:15               8.3              4.5   \n",
      "5     New York   4/5/2024 14:15               8.3              4.5   \n",
      "..         ...              ...               ...              ...   \n",
      "795  Hong Kong    4/6/2024 2:30              25.0             27.8   \n",
      "796  Hong Kong    4/6/2024 2:30              25.0             27.8   \n",
      "797  Hong Kong    4/6/2024 2:30              25.0             27.8   \n",
      "798  Hong Kong    4/6/2024 2:30              25.0             27.8   \n",
      "799  Hong Kong    4/6/2024 2:30              25.0             27.8   \n",
      "\n",
      "     Humidity (%)  Wind Speed (kph) Weather Condition  Cloud Cover (%)  \\\n",
      "1              40              29.9     Partly cloudy               75   \n",
      "2              40              29.9     Partly cloudy               75   \n",
      "3              40              29.9     Partly cloudy               75   \n",
      "4              40              29.9     Partly cloudy               75   \n",
      "5              40              29.9     Partly cloudy               75   \n",
      "..            ...               ...               ...              ...   \n",
      "795            79              29.9     Partly cloudy               50   \n",
      "796            79              29.9     Partly cloudy               50   \n",
      "797            79              29.9     Partly cloudy               50   \n",
      "798            79              29.9     Partly cloudy               50   \n",
      "799            79              29.9     Partly cloudy               50   \n",
      "\n",
      "     Pressure (mb)  UV Index  Visibility (km)  \n",
      "1             1003         2               16  \n",
      "2             1003         2               16  \n",
      "3             1003         2               16  \n",
      "4             1003         2               16  \n",
      "5             1003         2               16  \n",
      "..             ...       ...              ...  \n",
      "795           1012         1               10  \n",
      "796           1012         1               10  \n",
      "797           1012         1               10  \n",
      "798           1012         1               10  \n",
      "799           1012         1               10  \n",
      "\n",
      "[792 rows x 11 columns]\n"
     ]
    }
   ],
   "source": [
    "rowDuplicatedKeep = rawDataset[rawDataset.duplicated()]\n",
    "print(rowDuplicated)"
   ]
  },
  {
   "cell_type": "markdown",
   "id": "a7331d01-ec0a-4930-a9c1-9775b8f2c65d",
   "metadata": {},
   "source": [
    "### 3. Membersihkan Data yang terduplikasi"
   ]
  },
  {
   "cell_type": "code",
   "execution_count": 29,
   "id": "051eb0e5-dcc3-46e8-b6db-0807e82499a5",
   "metadata": {},
   "outputs": [
    {
     "name": "stdout",
     "output_type": "stream",
     "text": [
      "      Location Observation Time  Temperature (°C)  Feels Like (°C)  \\\n",
      "0     New York   4/5/2024 14:15               8.3              4.5   \n",
      "100     London   4/5/2024 19:30              15.0             13.8   \n",
      "200      Tokyo    4/6/2024 3:30              10.0              8.1   \n",
      "300      Paris   4/5/2024 20:30              16.0             16.0   \n",
      "400     Sydney    4/6/2024 5:30              19.0             19.0   \n",
      "500      Dubai   4/5/2024 22:30              24.0             25.5   \n",
      "600       Rome   4/5/2024 20:30              15.0             15.8   \n",
      "700  Hong Kong    4/6/2024 2:30              25.0             27.8   \n",
      "\n",
      "     Humidity (%)  Wind Speed (kph) Weather Condition  Cloud Cover (%)  \\\n",
      "0              40              29.9     Partly cloudy               75   \n",
      "100            67              24.1     Partly cloudy               75   \n",
      "200            76              20.2        Light rain               75   \n",
      "300            88               6.8        Light rain                0   \n",
      "400           100               3.6     Partly cloudy               75   \n",
      "500            65               9.0             Clear                0   \n",
      "600            72               6.1             Clear                0   \n",
      "700            79              29.9     Partly cloudy               50   \n",
      "\n",
      "     Pressure (mb)  UV Index  Visibility (km)  \n",
      "0             1003         2               16  \n",
      "100           1006         3               10  \n",
      "200           1021         1               10  \n",
      "300           1012         4               10  \n",
      "400           1013         1               10  \n",
      "500           1014         1               10  \n",
      "600           1024         1               10  \n",
      "700           1012         1               10  \n"
     ]
    }
   ],
   "source": [
    "cleanDataset = rawDataset.drop_duplicates()\n",
    "print(cleanDataset)"
   ]
  },
  {
   "cell_type": "markdown",
   "id": "178c4239-4818-4c05-90c4-953bedbc986e",
   "metadata": {},
   "source": [
    "### 4. Export Data Postprocessing"
   ]
  },
  {
   "cell_type": "code",
   "execution_count": 36,
   "id": "873bee0e-1eed-466c-ba19-ac040fca66d0",
   "metadata": {},
   "outputs": [],
   "source": [
    "cleanDataset.to_csv('cleaned_data.csv', index=False)"
   ]
  },
  {
   "cell_type": "markdown",
   "id": "16e2c3b0-1d25-4859-8012-29c217f866f1",
   "metadata": {},
   "source": [
    "### 5. Menampilkan Data Sebelum dan Setelah Preprocessing"
   ]
  },
  {
   "cell_type": "code",
   "execution_count": 37,
   "id": "8dfa730a-c4bb-4df4-a937-17b7ad5b7085",
   "metadata": {},
   "outputs": [
    {
     "name": "stdout",
     "output_type": "stream",
     "text": [
      "      Location Observation Time  Temperature (°C)  Feels Like (°C)  \\\n",
      "0     New York   4/5/2024 14:15               8.3              4.5   \n",
      "1     New York   4/5/2024 14:15               8.3              4.5   \n",
      "2     New York   4/5/2024 14:15               8.3              4.5   \n",
      "3     New York   4/5/2024 14:15               8.3              4.5   \n",
      "4     New York   4/5/2024 14:15               8.3              4.5   \n",
      "..         ...              ...               ...              ...   \n",
      "795  Hong Kong    4/6/2024 2:30              25.0             27.8   \n",
      "796  Hong Kong    4/6/2024 2:30              25.0             27.8   \n",
      "797  Hong Kong    4/6/2024 2:30              25.0             27.8   \n",
      "798  Hong Kong    4/6/2024 2:30              25.0             27.8   \n",
      "799  Hong Kong    4/6/2024 2:30              25.0             27.8   \n",
      "\n",
      "     Humidity (%)  Wind Speed (kph) Weather Condition  Cloud Cover (%)  \\\n",
      "0              40              29.9     Partly cloudy               75   \n",
      "1              40              29.9     Partly cloudy               75   \n",
      "2              40              29.9     Partly cloudy               75   \n",
      "3              40              29.9     Partly cloudy               75   \n",
      "4              40              29.9     Partly cloudy               75   \n",
      "..            ...               ...               ...              ...   \n",
      "795            79              29.9     Partly cloudy               50   \n",
      "796            79              29.9     Partly cloudy               50   \n",
      "797            79              29.9     Partly cloudy               50   \n",
      "798            79              29.9     Partly cloudy               50   \n",
      "799            79              29.9     Partly cloudy               50   \n",
      "\n",
      "     Pressure (mb)  UV Index  Visibility (km)  \n",
      "0             1003         2               16  \n",
      "1             1003         2               16  \n",
      "2             1003         2               16  \n",
      "3             1003         2               16  \n",
      "4             1003         2               16  \n",
      "..             ...       ...              ...  \n",
      "795           1012         1               10  \n",
      "796           1012         1               10  \n",
      "797           1012         1               10  \n",
      "798           1012         1               10  \n",
      "799           1012         1               10  \n",
      "\n",
      "[800 rows x 11 columns]\n"
     ]
    }
   ],
   "source": [
    "print(rawDataset)"
   ]
  },
  {
   "cell_type": "code",
   "execution_count": 38,
   "id": "9184d8eb-ad75-4d7a-92a1-7197685c27b7",
   "metadata": {},
   "outputs": [
    {
     "name": "stdout",
     "output_type": "stream",
     "text": [
      "      Location Observation Time  Temperature (°C)  Feels Like (°C)  \\\n",
      "0     New York   4/5/2024 14:15               8.3              4.5   \n",
      "100     London   4/5/2024 19:30              15.0             13.8   \n",
      "200      Tokyo    4/6/2024 3:30              10.0              8.1   \n",
      "300      Paris   4/5/2024 20:30              16.0             16.0   \n",
      "400     Sydney    4/6/2024 5:30              19.0             19.0   \n",
      "500      Dubai   4/5/2024 22:30              24.0             25.5   \n",
      "600       Rome   4/5/2024 20:30              15.0             15.8   \n",
      "700  Hong Kong    4/6/2024 2:30              25.0             27.8   \n",
      "\n",
      "     Humidity (%)  Wind Speed (kph) Weather Condition  Cloud Cover (%)  \\\n",
      "0              40              29.9     Partly cloudy               75   \n",
      "100            67              24.1     Partly cloudy               75   \n",
      "200            76              20.2        Light rain               75   \n",
      "300            88               6.8        Light rain                0   \n",
      "400           100               3.6     Partly cloudy               75   \n",
      "500            65               9.0             Clear                0   \n",
      "600            72               6.1             Clear                0   \n",
      "700            79              29.9     Partly cloudy               50   \n",
      "\n",
      "     Pressure (mb)  UV Index  Visibility (km)  \n",
      "0             1003         2               16  \n",
      "100           1006         3               10  \n",
      "200           1021         1               10  \n",
      "300           1012         4               10  \n",
      "400           1013         1               10  \n",
      "500           1014         1               10  \n",
      "600           1024         1               10  \n",
      "700           1012         1               10  \n"
     ]
    }
   ],
   "source": [
    "print(cleanDataset)"
   ]
  }
 ],
 "metadata": {
  "kernelspec": {
   "display_name": "Python 3 (ipykernel)",
   "language": "python",
   "name": "python3"
  },
  "language_info": {
   "codemirror_mode": {
    "name": "ipython",
    "version": 3
   },
   "file_extension": ".py",
   "mimetype": "text/x-python",
   "name": "python",
   "nbconvert_exporter": "python",
   "pygments_lexer": "ipython3",
   "version": "3.10.12"
  }
 },
 "nbformat": 4,
 "nbformat_minor": 5
}
