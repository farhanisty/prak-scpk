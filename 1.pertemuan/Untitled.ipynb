{
 "cells": [
  {
   "cell_type": "markdown",
   "id": "5778b180-6999-4a1d-b71c-23360fddc2ae",
   "metadata": {},
   "source": [
    "# Pertemuan 1"
   ]
  },
  {
   "cell_type": "markdown",
   "id": "2d5dfdad-b48d-477f-9f26-24d2f42fb843",
   "metadata": {},
   "source": [
    "## Operator dalam python"
   ]
  },
  {
   "cell_type": "code",
   "execution_count": 7,
   "id": "31d2a668-7e58-4fd6-8611-a42ea6c613ef",
   "metadata": {},
   "outputs": [
    {
     "name": "stdout",
     "output_type": "stream",
     "text": [
      "penambahan:  13\n",
      "pengurangan:  7\n",
      "perkalian:  30\n",
      "Pembagian:  3.3333333333333335\n",
      "eksponen:  1000\n",
      "modulus:  1\n",
      "Pembagian bulat:  3\n"
     ]
    }
   ],
   "source": [
    "# contoh operator\n",
    "a = 10\n",
    "b = 3\n",
    "\n",
    "print(\"penambahan: \", a + b)\n",
    "print(\"pengurangan: \", a - b)\n",
    "print(\"perkalian: \", a * b)\n",
    "print(\"Pembagian: \", a / b)\n",
    "print(\"eksponen: \", a ** b)\n",
    "print(\"modulus: \", a % b)\n",
    "print(\"Pembagian bulat: \", a // b)"
   ]
  },
  {
   "cell_type": "markdown",
   "id": "7caba753-aa88-4c9f-b4c7-b473851bcd07",
   "metadata": {},
   "source": [
    "## Percabangan"
   ]
  },
  {
   "cell_type": "code",
   "execution_count": 9,
   "id": "7e1f75db-2952-42b2-9612-919a235cc1e0",
   "metadata": {},
   "outputs": [
    {
     "name": "stdin",
     "output_type": "stream",
     "text": [
      "masukkan nilai :  34\n"
     ]
    },
    {
     "name": "stdout",
     "output_type": "stream",
     "text": [
      "Nilai D kamu wajib ngulang\n"
     ]
    }
   ],
   "source": [
    "nilai = int(input(\"masukkan nilai : \"))\n",
    "if nilai >= 90:\n",
    "    print(\"Nilai A\")\n",
    "elif nilai >= 80:\n",
    "    print(\"Nilai B\")\n",
    "else:\n",
    "    print(\"Nilai D kamu wajib ngulang\")"
   ]
  },
  {
   "cell_type": "markdown",
   "id": "24605bf1-b9e5-4f9e-989e-8fc2ee32b26b",
   "metadata": {},
   "source": [
    "## Perulangan"
   ]
  },
  {
   "cell_type": "code",
   "execution_count": 14,
   "id": "f45c4087-c9bb-47a2-88c7-aa56b89a1acd",
   "metadata": {},
   "outputs": [
    {
     "name": "stdout",
     "output_type": "stream",
     "text": [
      "1\n",
      "2\n",
      "3\n",
      "4\n",
      "5\n"
     ]
    }
   ],
   "source": [
    "for i in range(1, 6):\n",
    "    print(i)"
   ]
  },
  {
   "cell_type": "code",
   "execution_count": 1,
   "id": "f7b7adcd-5b87-4045-8548-88056542033d",
   "metadata": {},
   "outputs": [
    {
     "name": "stdout",
     "output_type": "stream",
     "text": [
      "0\n",
      "1\n",
      "2\n"
     ]
    }
   ],
   "source": [
    "count = 0\n",
    "\n",
    "while count < 3:\n",
    "    print(count)\n",
    "    count += 1"
   ]
  },
  {
   "cell_type": "code",
   "execution_count": 3,
   "id": "fffab317-d529-457e-b4a4-bbe13f3c6ea0",
   "metadata": {},
   "outputs": [
    {
     "name": "stdout",
     "output_type": "stream",
     "text": [
      "mangga\n",
      "apel\n",
      "melon\n"
     ]
    }
   ],
   "source": [
    "buah = [\"mangga\", \"apel\", \"melon\"]\n",
    "\n",
    "for b in buah:\n",
    "    print(b)"
   ]
  }
 ],
 "metadata": {
  "kernelspec": {
   "display_name": "Python 3 (ipykernel)",
   "language": "python",
   "name": "python3"
  },
  "language_info": {
   "codemirror_mode": {
    "name": "ipython",
    "version": 3
   },
   "file_extension": ".py",
   "mimetype": "text/x-python",
   "name": "python",
   "nbconvert_exporter": "python",
   "pygments_lexer": "ipython3",
   "version": "3.10.12"
  }
 },
 "nbformat": 4,
 "nbformat_minor": 5
}
